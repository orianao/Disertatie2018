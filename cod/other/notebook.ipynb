{
 "cells": [
  {
   "cell_type": "markdown",
   "metadata": {
    "_cell_guid": "15bc7c0c-e9bd-0bdf-ef48-cb6ea7baa8a8",
    "_uuid": "b022729c45be5626858da9539e73dd8ce21565cd"
   },
   "source": [
    "I had a network model up and running, and just wanted to add labels to the unclassified files. While preparing for this I found that I didn't agree with the labels of many of the already classified files, so I made new labels for the whole set."
   ]
  },
  {
   "cell_type": "code",
   "execution_count": 1,
   "metadata": {
    "_cell_guid": "b3afe87b-db56-8577-7fec-4e807cdae70f",
    "_uuid": "291f11b79382868708a9c7b9803c4cc5c41a6b72"
   },
   "outputs": [],
   "source": [
    "import numpy as np\n",
    "from scipy.io import wavfile\n",
    "import matplotlib.pyplot as plt\n",
    "%matplotlib inline\n",
    "import pandas as pd"
   ]
  },
  {
   "cell_type": "code",
   "execution_count": 2,
   "metadata": {
    "_cell_guid": "0292ed4b-87dc-54c4-3077-ef965ea920e7",
    "_uuid": "bc429716536f6086bb344807f6af388359bbe875"
   },
   "outputs": [],
   "source": [
    "INPUT_LIB = '../input/'\n",
    "SAMPLE_RATE = 44100"
   ]
  },
  {
   "cell_type": "markdown",
   "metadata": {
    "_cell_guid": "76422445-66b5-244d-3e99-738e86379fc9",
    "_uuid": "b29fcfdb0e94308ff386f21bc89c4f66a9a53d58"
   },
   "source": [
    "## Load the data"
   ]
  },
  {
   "cell_type": "code",
   "execution_count": 3,
   "metadata": {
    "_cell_guid": "4e86258d-5a12-a088-00d4-e76e09cea6a6",
    "_uuid": "3b5595bc5387f3c046dde430e8c4c0637dd3270f"
   },
   "outputs": [],
   "source": [
    "def clean_filename(fname, string):   \n",
    "    file_name = fname.split('/')[1]\n",
    "    if file_name[:2] == '__':        \n",
    "        file_name = string + file_name\n",
    "    return file_name\n",
    "\n",
    "def load_wav_file(name, path):\n",
    "    _, b = wavfile.read(path + name)\n",
    "    assert _ == SAMPLE_RATE\n",
    "    return b"
   ]
  },
  {
   "cell_type": "code",
   "execution_count": 4,
   "metadata": {
    "_cell_guid": "992d5c45-a45d-7291-32dd-dd439fbc3858",
    "_uuid": "1fcb648a8727c12da84cc3ad611a0b717ff761a9"
   },
   "outputs": [
    {
     "ename": "FileNotFoundError",
     "evalue": "File b'../input/set_a.csv' does not exist",
     "output_type": "error",
     "traceback": [
      "\u001b[0;31m---------------------------------------------------------------------------\u001b[0m",
      "\u001b[0;31mFileNotFoundError\u001b[0m                         Traceback (most recent call last)",
      "\u001b[0;32m<ipython-input-4-2d066e871b85>\u001b[0m in \u001b[0;36m<module>\u001b[0;34m()\u001b[0m\n\u001b[0;32m----> 1\u001b[0;31m \u001b[0mfile_info\u001b[0m \u001b[0;34m=\u001b[0m \u001b[0mpd\u001b[0m\u001b[0;34m.\u001b[0m\u001b[0mread_csv\u001b[0m\u001b[0;34m(\u001b[0m\u001b[0mINPUT_LIB\u001b[0m \u001b[0;34m+\u001b[0m \u001b[0;34m'set_a.csv'\u001b[0m\u001b[0;34m)\u001b[0m\u001b[0;34m\u001b[0m\u001b[0m\n\u001b[0m\u001b[1;32m      2\u001b[0m new_info = pd.DataFrame({'file_name' : file_info['fname'].apply(clean_filename, \n\u001b[1;32m      3\u001b[0m                                                                 string='Aunlabelledtest'),\n\u001b[1;32m      4\u001b[0m                          'target' : file_info['label'].fillna('unclassified')})   \n\u001b[1;32m      5\u001b[0m new_info['time_series'] = new_info['file_name'].apply(load_wav_file, \n",
      "\u001b[0;32m~/anaconda3/lib/python3.6/site-packages/pandas/io/parsers.py\u001b[0m in \u001b[0;36mparser_f\u001b[0;34m(filepath_or_buffer, sep, delimiter, header, names, index_col, usecols, squeeze, prefix, mangle_dupe_cols, dtype, engine, converters, true_values, false_values, skipinitialspace, skiprows, nrows, na_values, keep_default_na, na_filter, verbose, skip_blank_lines, parse_dates, infer_datetime_format, keep_date_col, date_parser, dayfirst, iterator, chunksize, compression, thousands, decimal, lineterminator, quotechar, quoting, escapechar, comment, encoding, dialect, tupleize_cols, error_bad_lines, warn_bad_lines, skipfooter, skip_footer, doublequote, delim_whitespace, as_recarray, compact_ints, use_unsigned, low_memory, buffer_lines, memory_map, float_precision)\u001b[0m\n\u001b[1;32m    707\u001b[0m                     skip_blank_lines=skip_blank_lines)\n\u001b[1;32m    708\u001b[0m \u001b[0;34m\u001b[0m\u001b[0m\n\u001b[0;32m--> 709\u001b[0;31m         \u001b[0;32mreturn\u001b[0m \u001b[0m_read\u001b[0m\u001b[0;34m(\u001b[0m\u001b[0mfilepath_or_buffer\u001b[0m\u001b[0;34m,\u001b[0m \u001b[0mkwds\u001b[0m\u001b[0;34m)\u001b[0m\u001b[0;34m\u001b[0m\u001b[0m\n\u001b[0m\u001b[1;32m    710\u001b[0m \u001b[0;34m\u001b[0m\u001b[0m\n\u001b[1;32m    711\u001b[0m     \u001b[0mparser_f\u001b[0m\u001b[0;34m.\u001b[0m\u001b[0m__name__\u001b[0m \u001b[0;34m=\u001b[0m \u001b[0mname\u001b[0m\u001b[0;34m\u001b[0m\u001b[0m\n",
      "\u001b[0;32m~/anaconda3/lib/python3.6/site-packages/pandas/io/parsers.py\u001b[0m in \u001b[0;36m_read\u001b[0;34m(filepath_or_buffer, kwds)\u001b[0m\n\u001b[1;32m    447\u001b[0m \u001b[0;34m\u001b[0m\u001b[0m\n\u001b[1;32m    448\u001b[0m     \u001b[0;31m# Create the parser.\u001b[0m\u001b[0;34m\u001b[0m\u001b[0;34m\u001b[0m\u001b[0m\n\u001b[0;32m--> 449\u001b[0;31m     \u001b[0mparser\u001b[0m \u001b[0;34m=\u001b[0m \u001b[0mTextFileReader\u001b[0m\u001b[0;34m(\u001b[0m\u001b[0mfilepath_or_buffer\u001b[0m\u001b[0;34m,\u001b[0m \u001b[0;34m**\u001b[0m\u001b[0mkwds\u001b[0m\u001b[0;34m)\u001b[0m\u001b[0;34m\u001b[0m\u001b[0m\n\u001b[0m\u001b[1;32m    450\u001b[0m \u001b[0;34m\u001b[0m\u001b[0m\n\u001b[1;32m    451\u001b[0m     \u001b[0;32mif\u001b[0m \u001b[0mchunksize\u001b[0m \u001b[0;32mor\u001b[0m \u001b[0miterator\u001b[0m\u001b[0;34m:\u001b[0m\u001b[0;34m\u001b[0m\u001b[0m\n",
      "\u001b[0;32m~/anaconda3/lib/python3.6/site-packages/pandas/io/parsers.py\u001b[0m in \u001b[0;36m__init__\u001b[0;34m(self, f, engine, **kwds)\u001b[0m\n\u001b[1;32m    816\u001b[0m             \u001b[0mself\u001b[0m\u001b[0;34m.\u001b[0m\u001b[0moptions\u001b[0m\u001b[0;34m[\u001b[0m\u001b[0;34m'has_index_names'\u001b[0m\u001b[0;34m]\u001b[0m \u001b[0;34m=\u001b[0m \u001b[0mkwds\u001b[0m\u001b[0;34m[\u001b[0m\u001b[0;34m'has_index_names'\u001b[0m\u001b[0;34m]\u001b[0m\u001b[0;34m\u001b[0m\u001b[0m\n\u001b[1;32m    817\u001b[0m \u001b[0;34m\u001b[0m\u001b[0m\n\u001b[0;32m--> 818\u001b[0;31m         \u001b[0mself\u001b[0m\u001b[0;34m.\u001b[0m\u001b[0m_make_engine\u001b[0m\u001b[0;34m(\u001b[0m\u001b[0mself\u001b[0m\u001b[0;34m.\u001b[0m\u001b[0mengine\u001b[0m\u001b[0;34m)\u001b[0m\u001b[0;34m\u001b[0m\u001b[0m\n\u001b[0m\u001b[1;32m    819\u001b[0m \u001b[0;34m\u001b[0m\u001b[0m\n\u001b[1;32m    820\u001b[0m     \u001b[0;32mdef\u001b[0m \u001b[0mclose\u001b[0m\u001b[0;34m(\u001b[0m\u001b[0mself\u001b[0m\u001b[0;34m)\u001b[0m\u001b[0;34m:\u001b[0m\u001b[0;34m\u001b[0m\u001b[0m\n",
      "\u001b[0;32m~/anaconda3/lib/python3.6/site-packages/pandas/io/parsers.py\u001b[0m in \u001b[0;36m_make_engine\u001b[0;34m(self, engine)\u001b[0m\n\u001b[1;32m   1047\u001b[0m     \u001b[0;32mdef\u001b[0m \u001b[0m_make_engine\u001b[0m\u001b[0;34m(\u001b[0m\u001b[0mself\u001b[0m\u001b[0;34m,\u001b[0m \u001b[0mengine\u001b[0m\u001b[0;34m=\u001b[0m\u001b[0;34m'c'\u001b[0m\u001b[0;34m)\u001b[0m\u001b[0;34m:\u001b[0m\u001b[0;34m\u001b[0m\u001b[0m\n\u001b[1;32m   1048\u001b[0m         \u001b[0;32mif\u001b[0m \u001b[0mengine\u001b[0m \u001b[0;34m==\u001b[0m \u001b[0;34m'c'\u001b[0m\u001b[0;34m:\u001b[0m\u001b[0;34m\u001b[0m\u001b[0m\n\u001b[0;32m-> 1049\u001b[0;31m             \u001b[0mself\u001b[0m\u001b[0;34m.\u001b[0m\u001b[0m_engine\u001b[0m \u001b[0;34m=\u001b[0m \u001b[0mCParserWrapper\u001b[0m\u001b[0;34m(\u001b[0m\u001b[0mself\u001b[0m\u001b[0;34m.\u001b[0m\u001b[0mf\u001b[0m\u001b[0;34m,\u001b[0m \u001b[0;34m**\u001b[0m\u001b[0mself\u001b[0m\u001b[0;34m.\u001b[0m\u001b[0moptions\u001b[0m\u001b[0;34m)\u001b[0m\u001b[0;34m\u001b[0m\u001b[0m\n\u001b[0m\u001b[1;32m   1050\u001b[0m         \u001b[0;32melse\u001b[0m\u001b[0;34m:\u001b[0m\u001b[0;34m\u001b[0m\u001b[0m\n\u001b[1;32m   1051\u001b[0m             \u001b[0;32mif\u001b[0m \u001b[0mengine\u001b[0m \u001b[0;34m==\u001b[0m \u001b[0;34m'python'\u001b[0m\u001b[0;34m:\u001b[0m\u001b[0;34m\u001b[0m\u001b[0m\n",
      "\u001b[0;32m~/anaconda3/lib/python3.6/site-packages/pandas/io/parsers.py\u001b[0m in \u001b[0;36m__init__\u001b[0;34m(self, src, **kwds)\u001b[0m\n\u001b[1;32m   1693\u001b[0m         \u001b[0mkwds\u001b[0m\u001b[0;34m[\u001b[0m\u001b[0;34m'allow_leading_cols'\u001b[0m\u001b[0;34m]\u001b[0m \u001b[0;34m=\u001b[0m \u001b[0mself\u001b[0m\u001b[0;34m.\u001b[0m\u001b[0mindex_col\u001b[0m \u001b[0;32mis\u001b[0m \u001b[0;32mnot\u001b[0m \u001b[0;32mFalse\u001b[0m\u001b[0;34m\u001b[0m\u001b[0m\n\u001b[1;32m   1694\u001b[0m \u001b[0;34m\u001b[0m\u001b[0m\n\u001b[0;32m-> 1695\u001b[0;31m         \u001b[0mself\u001b[0m\u001b[0;34m.\u001b[0m\u001b[0m_reader\u001b[0m \u001b[0;34m=\u001b[0m \u001b[0mparsers\u001b[0m\u001b[0;34m.\u001b[0m\u001b[0mTextReader\u001b[0m\u001b[0;34m(\u001b[0m\u001b[0msrc\u001b[0m\u001b[0;34m,\u001b[0m \u001b[0;34m**\u001b[0m\u001b[0mkwds\u001b[0m\u001b[0;34m)\u001b[0m\u001b[0;34m\u001b[0m\u001b[0m\n\u001b[0m\u001b[1;32m   1696\u001b[0m \u001b[0;34m\u001b[0m\u001b[0m\n\u001b[1;32m   1697\u001b[0m         \u001b[0;31m# XXX\u001b[0m\u001b[0;34m\u001b[0m\u001b[0;34m\u001b[0m\u001b[0m\n",
      "\u001b[0;32mpandas/_libs/parsers.pyx\u001b[0m in \u001b[0;36mpandas._libs.parsers.TextReader.__cinit__\u001b[0;34m()\u001b[0m\n",
      "\u001b[0;32mpandas/_libs/parsers.pyx\u001b[0m in \u001b[0;36mpandas._libs.parsers.TextReader._setup_parser_source\u001b[0;34m()\u001b[0m\n",
      "\u001b[0;31mFileNotFoundError\u001b[0m: File b'../input/set_a.csv' does not exist"
     ]
    }
   ],
   "source": [
    "file_info = pd.read_csv(INPUT_LIB + 'set_a.csv')\n",
    "new_info = pd.DataFrame({'file_name' : file_info['fname'].apply(clean_filename, \n",
    "                                                                string='Aunlabelledtest'),\n",
    "                         'target' : file_info['label'].fillna('unclassified')})   \n",
    "new_info['time_series'] = new_info['file_name'].apply(load_wav_file, \n",
    "                                                      path=INPUT_LIB + 'set_a/')    \n",
    "new_info['len_series'] = new_info['time_series'].apply(len)  "
   ]
  },
  {
   "cell_type": "code",
   "execution_count": 5,
   "metadata": {
    "_cell_guid": "8c5dc883-e5ed-2c3f-177c-e23ccbb82700",
    "_uuid": "b7650217eec236cbe96644b9bfad38b47fcca15d"
   },
   "outputs": [
    {
     "ename": "NameError",
     "evalue": "name 'new_info' is not defined",
     "output_type": "error",
     "traceback": [
      "\u001b[0;31m---------------------------------------------------------------------------\u001b[0m",
      "\u001b[0;31mNameError\u001b[0m                                 Traceback (most recent call last)",
      "\u001b[0;32m<ipython-input-5-22eddeb70a56>\u001b[0m in \u001b[0;36m<module>\u001b[0;34m()\u001b[0m\n\u001b[0;32m----> 1\u001b[0;31m \u001b[0mMAX_LEN\u001b[0m \u001b[0;34m=\u001b[0m \u001b[0mmax\u001b[0m\u001b[0;34m(\u001b[0m\u001b[0mnew_info\u001b[0m\u001b[0;34m[\u001b[0m\u001b[0;34m'len_series'\u001b[0m\u001b[0;34m]\u001b[0m\u001b[0;34m)\u001b[0m\u001b[0;34m\u001b[0m\u001b[0m\n\u001b[0m",
      "\u001b[0;31mNameError\u001b[0m: name 'new_info' is not defined"
     ]
    }
   ],
   "source": [
    "MAX_LEN = max(new_info['len_series'])"
   ]
  },
  {
   "cell_type": "markdown",
   "metadata": {
    "_cell_guid": "917681ee-1d59-a977-a952-fba8b3723561",
    "_uuid": "710beff75c3343bd2931f1abd08c3d513d4637a2"
   },
   "source": [
    "## Look (and listen) at the four classes"
   ]
  },
  {
   "cell_type": "markdown",
   "metadata": {
    "_cell_guid": "c54698b6-dc10-9523-5340-9960f15062ab",
    "_uuid": "f2a8c88389fd791fcf110f9964708eb6a68e2368"
   },
   "source": [
    "I will now go through the training set and relabel the data points. For reasons that will be explained below, I will not use the label 'extrahls' but instead will classify everything as either 0=artifact, 1=normal/extrahls, or  2=murmur."
   ]
  },
  {
   "cell_type": "code",
   "execution_count": null,
   "metadata": {
    "_cell_guid": "ae91c930-06da-71ac-36e4-ca5735162c8b",
    "_uuid": "8d4a6803917b46d275862633f6768c1963e6a823",
    "collapsed": true
   },
   "outputs": [],
   "source": [
    "new_info['target'].value_counts()"
   ]
  },
  {
   "cell_type": "code",
   "execution_count": null,
   "metadata": {
    "_cell_guid": "35c96c5b-120f-6684-ecea-aaf77d2cf352",
    "_uuid": "020b2560f472fe11492b1ac5f6d5a0e94435c5ce",
    "collapsed": true
   },
   "outputs": [],
   "source": [
    "new_labels = np.zeros((176,), dtype=\"int\")"
   ]
  },
  {
   "cell_type": "markdown",
   "metadata": {
    "_cell_guid": "19ae3ba9-e9a4-eeff-eb04-6ba30ed2ba6d",
    "_uuid": "c9c0798ad4c46110596f849ecd47528c84228b84"
   },
   "source": [
    "First the artifacts:"
   ]
  },
  {
   "cell_type": "code",
   "execution_count": null,
   "metadata": {
    "_cell_guid": "cf9bbfbe-12c8-7be1-c844-307e7c2b382a",
    "_uuid": "039ce64b5b41a7498d25b51a41a7661f19d2381a",
    "collapsed": true
   },
   "outputs": [],
   "source": [
    "print(\"artifacts:\")\n",
    "fig, ax = plt.subplots(10, 4, figsize = (12, 16))\n",
    "for i in range(40):\n",
    "    ax[i//4, i%4].plot(new_info['time_series'][i])\n",
    "    ax[i//4, i%4].set_title(new_info['file_name'][i][:-4])\n",
    "    ax[i//4, i%4].get_xaxis().set_ticks([])"
   ]
  },
  {
   "cell_type": "markdown",
   "metadata": {
    "_cell_guid": "4a61660b-d4e0-d2c6-e1b4-e79bcae59918",
    "_uuid": "905ec9fb19ff0b05d87e208f920d70677b0be355"
   },
   "source": [
    "These were all correctly classified. Some are obvious, like chatter in Italian or a Bollywood song from the radio. There are actually some heart beats on 18 and 23 so they could be classified either way. I've tried both, and keeping their label works better with my CNN. (And yes, I know changing data post hoc this way is fishy, but I'm not  publishing this.)"
   ]
  },
  {
   "cell_type": "code",
   "execution_count": null,
   "metadata": {
    "_cell_guid": "60ea0489-affe-4879-f3e0-9a40d71cd58b",
    "_uuid": "bc22ac9d81f8a85e9f54fe2bd6264fd116dd0125",
    "collapsed": true
   },
   "outputs": [],
   "source": [
    "new_labels[:40] = 0\n",
    "new_labels[18] = 0\n",
    "new_labels[23] = 0"
   ]
  },
  {
   "cell_type": "code",
   "execution_count": null,
   "metadata": {
    "_cell_guid": "2287cf0d-3496-c289-9fcb-86732b9230fb",
    "_uuid": "2d1bc8384af42146a2914a5030d010302048e30f",
    "collapsed": true
   },
   "outputs": [],
   "source": [
    "print(\"extrahls:\")\n",
    "fig, ax = plt.subplots(5, 4, figsize = (12, 16))\n",
    "for i in range(19):\n",
    "    ax[i//4, i%4].plot(new_info['time_series'][i+40])\n",
    "    ax[i//4, i%4].set_title(new_info['file_name'][i+40][:-4])\n",
    "    ax[i//4, i%4].get_xaxis().set_ticks([])"
   ]
  },
  {
   "cell_type": "markdown",
   "metadata": {
    "_cell_guid": "2a70ccd5-dfb2-64a3-8f6a-5bfd5116ae36",
    "_uuid": "d626ec535d2ae9bd1c01bb9e5c6113b4469a2778"
   },
   "source": [
    "## Some medical background\n",
    "\n",
    "The two *heart sounds* S1 / S2 (or lub / dub) are generated when the valves of the heart close. The first heart sound is generated by the closure of the inflow valves (mitralis and tricuspid) and marks the beginning of systole, when blood is pushed out to from the heart to the body and lungs. The second heart sound is generated by the closure of the outflow valves (aortic and pulmonary) and marks the beginning of diastole, the slightly longer phase when the heart is refilled.\n",
    "\n",
    "A heart *murmur* is a low-frequency sound created by turbulent flow over the valves. Especially during systole, it can be a normal finding, created by the high speed flow in aorta. A murmur can also be a sign of malfunction of the valves, such as *stenosis*, when the valve is too narrow and tight, or *insufficiency*, when there is leakage over a valve that fails to close.\n",
    "\n",
    "A *third or forth heart sound* is thought to be due to abnormal blood flow in the ventricles and is a sign of advanced heart disease. They have been described from the beginning of days, from the time when the stethoscope wasn't invented and doctors listened with ear-to-chest. \n",
    "\n",
    "My experience from med school is that extra heart sounds don't really exist any more - at least not outside of cardiac surgery. When a faint extra sound was found on the wards, it was mandatory for everyone to go there and listen, and sometimes the sound we heard was imagined rather than real. Even being more generous than that, most would agree that extra heart sounds are rarer and less important than murmurs by an order of magnitude. I have certainly never based any clinical decision on their presence or not.\n",
    "\n",
    "Some of the recordings under ''extrahls'' do indeed have extra sounds, but I am not sure that they correspond to the classical third and fourth sound, especially as an extra peak is not seen on the amplitude graph. Instead, I believe many of them are a split second sound, which is created when the aortic and pulmonary valves don't close exactly at the same time. (This is normal when you hold your breath, but can sometimes be a sign of lung disease.) More problematic is that many recordings under \"normal\" had similar extra sounds, and I think that these in many cases are caused by the recording technique (which is after all different from ear-to-chest on which third heart sounds were defined). \n",
    "\n",
    "I went back and forth between recordings a few times, but the distinction did not become any clearer for me. As the category \"extrahls\" therefore seems to be poorly defined I decided to combine it with \"normal\".\n",
    "\n",
    "In addition, 40 and 55 which are murmur. In fact, 55 is identical to 66 below, which was labelled murmur. "
   ]
  },
  {
   "cell_type": "code",
   "execution_count": null,
   "metadata": {
    "_cell_guid": "c90f0a0a-d425-1c77-7d79-9c7ac61695cd",
    "_uuid": "d0ddd045782e441ec1189444b75534c4502b1242",
    "collapsed": true
   },
   "outputs": [],
   "source": [
    "new_labels[40:59] = 1\n",
    "for x in [40, 55]:\n",
    "    new_labels[x] = 2"
   ]
  },
  {
   "cell_type": "code",
   "execution_count": null,
   "metadata": {
    "_cell_guid": "9d3cf874-05b3-dc08-94db-aeb0b8e5a1ad",
    "_uuid": "6d1fc5ff3dc85f6fe977dd2da81bc82ee659b1bb",
    "collapsed": true
   },
   "outputs": [],
   "source": [
    "print(\"murmur\")\n",
    "fig, ax = plt.subplots(9, 4, figsize = (12, 16))\n",
    "for i in range(34):\n",
    "    ax[i//4, i%4].plot(new_info['time_series'][i+59])\n",
    "    ax[i//4, i%4].set_title(new_info['file_name'][i+59][-4])\n",
    "    ax[i//4, i%4].get_xaxis().set_ticks([])"
   ]
  },
  {
   "cell_type": "markdown",
   "metadata": {
    "_cell_guid": "6298eb32-8760-c3a1-f71b-c826f559050f",
    "_uuid": "39e52cdb36064bb0c5e013562e387a45cc570056"
   },
   "source": [
    "Most of these are correct, but as mentioned above 66 is identical with 55, and 62, 63, 65, 68 seem to be normal rhythm with some irregular noise rather than murmur.\n",
    "\n",
    "Another problem is that many of these examples are too extreme to be helpful for any practical (screening) applications. A person with a murmur like 83 or 88 either has well-known cardiac disease, or needs to be sent to hospital straight away. (They are called grade 5 or 6 murmurs, when you can feel them on the skin, or hear them anywhere on the chest.) \n",
    "\n",
    "We will see that our model will struggle to identify the much more common milder murmurs, and many more examples of this would have been needed. Similarly, I would have preferred  if the artifact examples were less bizarre."
   ]
  },
  {
   "cell_type": "code",
   "execution_count": null,
   "metadata": {
    "_cell_guid": "6356ab11-677c-0df1-a5a0-e7aa34ddbe86",
    "_uuid": "11f41c93c87a4e6f6102d9798c04bce4674b968d",
    "collapsed": true
   },
   "outputs": [],
   "source": [
    "new_labels[59:93] = 2\n",
    "for x in [62,63,65,68]:\n",
    "    new_labels[x] = 1"
   ]
  },
  {
   "cell_type": "code",
   "execution_count": null,
   "metadata": {
    "_cell_guid": "b6e4d4fb-b0c0-573b-28e7-d7262f68419a",
    "_uuid": "e5b0643e34610c6231d6e7ed5627732abda5beba",
    "collapsed": true
   },
   "outputs": [],
   "source": [
    "print(\"normal\")\n",
    "fig, ax = plt.subplots(8, 4, figsize = (12, 16))\n",
    "for i in range(31):\n",
    "    ax[i//4, i%4].plot(new_info['time_series'][i+93])\n",
    "    ax[i//4, i%4].set_title(new_info['file_name'][i+93][:-4])\n",
    "    ax[i//4, i%4].get_xaxis().set_ticks([])"
   ]
  },
  {
   "cell_type": "markdown",
   "metadata": {
    "_cell_guid": "e14d6c75-b0ea-24a1-201e-a84c7438c2b8",
    "_uuid": "160ffa56c631675fbbdc84523bd7989d0539a374"
   },
   "source": [
    "101, 107, 115, 116, 122 should be murmur.  If you listen to these normal recordings, you will realize why I felt that the border between normal and \"extrahls\" is very fuzzy indeed."
   ]
  },
  {
   "cell_type": "code",
   "execution_count": null,
   "metadata": {
    "_cell_guid": "870502aa-2706-1594-aacd-2480f44c7315",
    "_uuid": "2bbc61a3f10ae0389a3bfc977c5621d2e77ced93",
    "collapsed": true
   },
   "outputs": [],
   "source": [
    "new_labels[93:124] = 1\n",
    "for x in [101, 107, 115, 116, 122]:\n",
    "    new_labels[x] = 2"
   ]
  },
  {
   "cell_type": "markdown",
   "metadata": {
    "_cell_guid": "7c6a59da-68cf-1ef0-70d0-74b9503103aa",
    "_uuid": "8f12ea3e7b0d529b42c31cd94279dbce3fcf4d96"
   },
   "source": [
    "In conclusion, I have removed the EHS category, and discovered quite a few mild murmurs among the other classes.\n",
    "\n",
    "I thought about going one step further, and use the fact that these classes are not really exclusive. In some cases there are extra heart sounds, murmurs and artifacts on the same recording, and it could be given a triple score for this. In the end, I decided that it would not have been worth the effort. "
   ]
  },
  {
   "cell_type": "code",
   "execution_count": null,
   "metadata": {
    "_cell_guid": "36d89056-9855-5d0b-2299-a13c24f55a88",
    "_uuid": "3e441fc5aafa6653f8300dba47e2e6dfdd3b9772",
    "collapsed": true
   },
   "outputs": [],
   "source": [
    "print(\"unclassified\")\n",
    "fig, ax = plt.subplots(13, 4, figsize = (12, 16))\n",
    "for i in range(52):\n",
    "    ax[i//4, i%4].plot(new_info['time_series'][i+124])\n",
    "    ax[i//4, i%4].set_title(new_info['file_name'][i+124][17:-4])\n",
    "    ax[i//4, i%4].get_xaxis().set_ticks([])"
   ]
  },
  {
   "cell_type": "code",
   "execution_count": null,
   "metadata": {
    "_cell_guid": "1671030f-acb1-97eb-4423-1f99c6960175",
    "_uuid": "526a01205962d01d6abf79d48b9c4f431f38609f",
    "collapsed": true
   },
   "outputs": [],
   "source": [
    "new_labels[124:]= [0,2,2,1,\n",
    "                   1,1,1,1,\n",
    "                   0,1,0,1,\n",
    "                   1,1,2,1,\n",
    "                   0,1,1,1,\n",
    "                   1,1,2,0,\n",
    "                   0,0,0,0,\n",
    "                   0,0,1,0,\n",
    "                   0,0,0,0,\n",
    "                   0,1,0,2,\n",
    "                   1,2,2,2,\n",
    "                   2,2,2,2,\n",
    "                   2,2,2,2]"
   ]
  },
  {
   "cell_type": "markdown",
   "metadata": {
    "_cell_guid": "336053b2-8091-ede9-445d-8e020bc6c574",
    "_uuid": "7a2d216ebe682b7043bf050406cdc64497ce68cb"
   },
   "source": [
    "132, 134, 141, and 150 have heartbeats but also a lot of noise, so could be classified either way. I chose normal for 141 and artifact for the others. Number 168, 169, and 170 are probably from the same patient."
   ]
  },
  {
   "cell_type": "markdown",
   "metadata": {
    "_cell_guid": "fd6ff1a3-bddf-1912-a246-82ad2fe58968",
    "_uuid": "4369218dc3d37506c85f8616007bca5a73d9cf58"
   },
   "source": [
    "We finish this by printing our label in a format that can be easily imported to another notebook."
   ]
  },
  {
   "cell_type": "code",
   "execution_count": null,
   "metadata": {
    "_cell_guid": "14ced201-a543-f66e-17c2-baaf591ebb54",
    "_uuid": "93e9f000bdc648d26ff6971c73dcd5fa04d18e89",
    "collapsed": true
   },
   "outputs": [],
   "source": [
    "print(\"[\" + \", \".join([str(x) for x in new_labels]) + \"]\")"
   ]
  },
  {
   "cell_type": "markdown",
   "metadata": {
    "_cell_guid": "4c80ab2c-857a-0978-1754-fa4507142ea2",
    "_uuid": "2976bb94b2949df8affd3fba04d69414588c38b8"
   },
   "source": [
    "Please feel free to add corrections/suggestions on this. I am doctor, and I still use my stethoscope once in a while, but I'm not an expert by far. I have already spent far too much doing this, and I get more confused each time. I think I'll compose a rant for the forum about the difficulties of using human perception as gold standard, and then move on to other datasets. \n",
    "\n",
    "Please check out my other [notebook][1] where I apply a deep convolutional net to these labels, achieving 80-90% accuracy after a few minutes of training. And upvote if you used the labels yourself.\n",
    "\n",
    "I'll be back when I've analysed set B. Or maybe I'll move on to PhysioNet.\n",
    "\n",
    "  [1]: https://www.kaggle.com/toregil/d/kinguistics/heartbeat-sounds/what-s-in-a-heartbeat"
   ]
  },
  {
   "cell_type": "code",
   "execution_count": null,
   "metadata": {
    "_cell_guid": "fb29a46d-0011-9351-19d9-21465223352f",
    "_uuid": "65723f9ab9d4e86c022fda3e9db60fdf896de792",
    "collapsed": true
   },
   "outputs": [],
   "source": []
  },
  {
   "cell_type": "code",
   "execution_count": null,
   "metadata": {
    "_cell_guid": "d47aa8a3-e6d5-82ac-ee07-2b1780bde156",
    "_uuid": "fd96b46a04cb411a2244a995df28c28929efb9d2",
    "collapsed": true
   },
   "outputs": [],
   "source": []
  },
  {
   "cell_type": "code",
   "execution_count": null,
   "metadata": {
    "_cell_guid": "2f27c8f7-528a-b6ed-9049-1fda2aa175a6",
    "_uuid": "a0f833626f0a0acd0fcc554f424c5b8e7b8c383d",
    "collapsed": true
   },
   "outputs": [],
   "source": []
  }
 ],
 "metadata": {
  "_change_revision": 0,
  "_is_fork": false,
  "kernelspec": {
   "display_name": "Python 3",
   "language": "python",
   "name": "python3"
  },
  "language_info": {
   "codemirror_mode": {
    "name": "ipython",
    "version": 3
   },
   "file_extension": ".py",
   "mimetype": "text/x-python",
   "name": "python",
   "nbconvert_exporter": "python",
   "pygments_lexer": "ipython3",
   "version": "3.6.4"
  }
 },
 "nbformat": 4,
 "nbformat_minor": 1
}
